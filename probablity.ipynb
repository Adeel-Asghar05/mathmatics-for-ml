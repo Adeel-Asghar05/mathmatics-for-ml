{
 "cells": [
  {
   "cell_type": "code",
   "execution_count": null,
   "id": "d0b1727c",
   "metadata": {},
   "outputs": [
    {
     "name": "stdout",
     "output_type": "stream",
     "text": [
      "Classification Report:\n",
      "               precision    recall  f1-score   support\n",
      "\n",
      "           0       0.33      1.00      0.50        50\n",
      "           1       0.00      0.00      0.00        50\n",
      "           2       0.00      0.00      0.00        50\n",
      "\n",
      "    accuracy                           0.33       150\n",
      "   macro avg       0.11      0.33      0.17       150\n",
      "weighted avg       0.11      0.33      0.17       150\n",
      "\n",
      "Confusion Matrix:\n",
      " [[50  0  0]\n",
      " [50  0  0]\n",
      " [50  0  0]]\n"
     ]
    },
    {
     "name": "stderr",
     "output_type": "stream",
     "text": [
      "c:\\Users\\Adeel Asghar\\.conda\\envs\\py311\\Lib\\site-packages\\sklearn\\metrics\\_classification.py:1731: UndefinedMetricWarning: Precision is ill-defined and being set to 0.0 in labels with no predicted samples. Use `zero_division` parameter to control this behavior.\n",
      "  _warn_prf(average, modifier, f\"{metric.capitalize()} is\", result.shape[0])\n",
      "c:\\Users\\Adeel Asghar\\.conda\\envs\\py311\\Lib\\site-packages\\sklearn\\metrics\\_classification.py:1731: UndefinedMetricWarning: Precision is ill-defined and being set to 0.0 in labels with no predicted samples. Use `zero_division` parameter to control this behavior.\n",
      "  _warn_prf(average, modifier, f\"{metric.capitalize()} is\", result.shape[0])\n",
      "c:\\Users\\Adeel Asghar\\.conda\\envs\\py311\\Lib\\site-packages\\sklearn\\metrics\\_classification.py:1731: UndefinedMetricWarning: Precision is ill-defined and being set to 0.0 in labels with no predicted samples. Use `zero_division` parameter to control this behavior.\n",
      "  _warn_prf(average, modifier, f\"{metric.capitalize()} is\", result.shape[0])\n"
     ]
    }
   ],
   "source": [
    "# Import necessary libraries\n",
    "from sklearn import datasets, metrics\n",
    "from sklearn.naive_bayes import GaussianNB ,MultinomialNB , BernoulliNB ,ComplementNB\n",
    "\n",
    "# Load the Iris dataset\n",
    "dataset = datasets.load_iris()\n",
    "# print (dataset)\n",
    "\n",
    "# Create a Gaussian Naive Bayes model\n",
    "model = GaussianNB()\n",
    "# model = MultinomialNB()\n",
    "# model = BernoulliNB()\n",
    "# model = ComplementNB()\n",
    "\n",
    "# Train the model\n",
    "model.fit(dataset.data, dataset.target)\n",
    "\n",
    "# Make predictions\n",
    "expected = dataset.target\n",
    "# print(\"expectation \" ,expected)\n",
    "predicted = model.predict(dataset.data)\n",
    "# print (\"prediction\",predicted)\n",
    "# Evaluate the model\n",
    "print(\"Classification Report:\\n\", metrics.classification_report(expected, predicted))\n",
    "print(\"Confusion Matrix:\\n\", metrics.confusion_matrix(expected, predicted))\n"
   ]
  },
  {
   "cell_type": "code",
   "execution_count": null,
   "id": "b02f8a02",
   "metadata": {},
   "outputs": [],
   "source": []
  }
 ],
 "metadata": {
  "kernelspec": {
   "display_name": "py311",
   "language": "python",
   "name": "python3"
  },
  "language_info": {
   "codemirror_mode": {
    "name": "ipython",
    "version": 3
   },
   "file_extension": ".py",
   "mimetype": "text/x-python",
   "name": "python",
   "nbconvert_exporter": "python",
   "pygments_lexer": "ipython3",
   "version": "3.11.13"
  }
 },
 "nbformat": 4,
 "nbformat_minor": 5
}
