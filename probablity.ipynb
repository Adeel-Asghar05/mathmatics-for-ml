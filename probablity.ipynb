{
 "cells": [
  {
   "cell_type": "code",
   "execution_count": null,
   "id": "d0b1727c",
   "metadata": {},
   "outputs": [],
   "source": [
    "# Import necessary libraries\n",
    "from sklearn import datasets, metrics\n",
    "from sklearn.naive_bayes import GaussianNB\n",
    "\n",
    "# Load the Iris dataset\n",
    "dataset = datasets.load_iris()\n",
    "\n",
    "# Create a Gaussian Naive Bayes model\n",
    "model = GaussianNB()\n",
    "\n",
    "# Train the model\n",
    "model.fit(dataset.data, dataset.target)\n",
    "\n",
    "# Make predictions\n",
    "expected = dataset.target\n",
    "predicted = model.predict(dataset.data)\n",
    "\n",
    "# Evaluate the model\n",
    "print(\"Classification Report:\\n\", metrics.classification_report(expected, predicted))\n",
    "print(\"Confusion Matrix:\\n\", metrics.confusion_matrix(expected, predicted))\n"
   ]
  }
 ],
 "metadata": {
  "language_info": {
   "name": "python"
  }
 },
 "nbformat": 4,
 "nbformat_minor": 5
}
